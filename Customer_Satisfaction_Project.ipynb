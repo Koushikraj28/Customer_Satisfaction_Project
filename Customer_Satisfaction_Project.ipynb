{
 "cells": [
  {
   "cell_type": "code",
   "execution_count": 1,
   "id": "d29fa642-62cd-4373-93cb-b56fd0ff63dd",
   "metadata": {},
   "outputs": [
    {
     "data": {
      "text/html": [
       "<div>\n",
       "<style scoped>\n",
       "    .dataframe tbody tr th:only-of-type {\n",
       "        vertical-align: middle;\n",
       "    }\n",
       "\n",
       "    .dataframe tbody tr th {\n",
       "        vertical-align: top;\n",
       "    }\n",
       "\n",
       "    .dataframe thead th {\n",
       "        text-align: right;\n",
       "    }\n",
       "</style>\n",
       "<table border=\"1\" class=\"dataframe\">\n",
       "  <thead>\n",
       "    <tr style=\"text-align: right;\">\n",
       "      <th></th>\n",
       "      <th>Ticket ID</th>\n",
       "      <th>Customer Name</th>\n",
       "      <th>Customer Email</th>\n",
       "      <th>Customer Age</th>\n",
       "      <th>Customer Gender</th>\n",
       "      <th>Product Purchased</th>\n",
       "      <th>Date of Purchase</th>\n",
       "      <th>Ticket Type</th>\n",
       "      <th>Ticket Subject</th>\n",
       "      <th>Ticket Description</th>\n",
       "      <th>Ticket Status</th>\n",
       "      <th>Resolution</th>\n",
       "      <th>Ticket Priority</th>\n",
       "      <th>Ticket Channel</th>\n",
       "      <th>First Response Time</th>\n",
       "      <th>Time to Resolution</th>\n",
       "      <th>Customer Satisfaction Rating</th>\n",
       "    </tr>\n",
       "  </thead>\n",
       "  <tbody>\n",
       "    <tr>\n",
       "      <th>0</th>\n",
       "      <td>1</td>\n",
       "      <td>Marisa Obrien</td>\n",
       "      <td>carrollallison@example.com</td>\n",
       "      <td>32</td>\n",
       "      <td>Other</td>\n",
       "      <td>GoPro Hero</td>\n",
       "      <td>2021-03-22</td>\n",
       "      <td>Technical issue</td>\n",
       "      <td>Product setup</td>\n",
       "      <td>I'm having an issue with the {product_purchase...</td>\n",
       "      <td>Pending Customer Response</td>\n",
       "      <td>NaN</td>\n",
       "      <td>Critical</td>\n",
       "      <td>Social media</td>\n",
       "      <td>2023-06-01 12:15:36</td>\n",
       "      <td>NaN</td>\n",
       "      <td>NaN</td>\n",
       "    </tr>\n",
       "    <tr>\n",
       "      <th>1</th>\n",
       "      <td>2</td>\n",
       "      <td>Jessica Rios</td>\n",
       "      <td>clarkeashley@example.com</td>\n",
       "      <td>42</td>\n",
       "      <td>Female</td>\n",
       "      <td>LG Smart TV</td>\n",
       "      <td>2021-05-22</td>\n",
       "      <td>Technical issue</td>\n",
       "      <td>Peripheral compatibility</td>\n",
       "      <td>I'm having an issue with the {product_purchase...</td>\n",
       "      <td>Pending Customer Response</td>\n",
       "      <td>NaN</td>\n",
       "      <td>Critical</td>\n",
       "      <td>Chat</td>\n",
       "      <td>2023-06-01 16:45:38</td>\n",
       "      <td>NaN</td>\n",
       "      <td>NaN</td>\n",
       "    </tr>\n",
       "    <tr>\n",
       "      <th>2</th>\n",
       "      <td>3</td>\n",
       "      <td>Christopher Robbins</td>\n",
       "      <td>gonzalestracy@example.com</td>\n",
       "      <td>48</td>\n",
       "      <td>Other</td>\n",
       "      <td>Dell XPS</td>\n",
       "      <td>2020-07-14</td>\n",
       "      <td>Technical issue</td>\n",
       "      <td>Network problem</td>\n",
       "      <td>I'm facing a problem with my {product_purchase...</td>\n",
       "      <td>Closed</td>\n",
       "      <td>Case maybe show recently my computer follow.</td>\n",
       "      <td>Low</td>\n",
       "      <td>Social media</td>\n",
       "      <td>2023-06-01 11:14:38</td>\n",
       "      <td>2023-06-01 18:05:38</td>\n",
       "      <td>3.0</td>\n",
       "    </tr>\n",
       "    <tr>\n",
       "      <th>3</th>\n",
       "      <td>4</td>\n",
       "      <td>Christina Dillon</td>\n",
       "      <td>bradleyolson@example.org</td>\n",
       "      <td>27</td>\n",
       "      <td>Female</td>\n",
       "      <td>Microsoft Office</td>\n",
       "      <td>2020-11-13</td>\n",
       "      <td>Billing inquiry</td>\n",
       "      <td>Account access</td>\n",
       "      <td>I'm having an issue with the {product_purchase...</td>\n",
       "      <td>Closed</td>\n",
       "      <td>Try capital clearly never color toward story.</td>\n",
       "      <td>Low</td>\n",
       "      <td>Social media</td>\n",
       "      <td>2023-06-01 07:29:40</td>\n",
       "      <td>2023-06-01 01:57:40</td>\n",
       "      <td>3.0</td>\n",
       "    </tr>\n",
       "    <tr>\n",
       "      <th>4</th>\n",
       "      <td>5</td>\n",
       "      <td>Alexander Carroll</td>\n",
       "      <td>bradleymark@example.com</td>\n",
       "      <td>67</td>\n",
       "      <td>Female</td>\n",
       "      <td>Autodesk AutoCAD</td>\n",
       "      <td>2020-02-04</td>\n",
       "      <td>Billing inquiry</td>\n",
       "      <td>Data loss</td>\n",
       "      <td>I'm having an issue with the {product_purchase...</td>\n",
       "      <td>Closed</td>\n",
       "      <td>West decision evidence bit.</td>\n",
       "      <td>Low</td>\n",
       "      <td>Email</td>\n",
       "      <td>2023-06-01 00:12:42</td>\n",
       "      <td>2023-06-01 19:53:42</td>\n",
       "      <td>1.0</td>\n",
       "    </tr>\n",
       "  </tbody>\n",
       "</table>\n",
       "</div>"
      ],
      "text/plain": [
       "   Ticket ID        Customer Name              Customer Email  Customer Age  \\\n",
       "0          1        Marisa Obrien  carrollallison@example.com            32   \n",
       "1          2         Jessica Rios    clarkeashley@example.com            42   \n",
       "2          3  Christopher Robbins   gonzalestracy@example.com            48   \n",
       "3          4     Christina Dillon    bradleyolson@example.org            27   \n",
       "4          5    Alexander Carroll     bradleymark@example.com            67   \n",
       "\n",
       "  Customer Gender Product Purchased Date of Purchase      Ticket Type  \\\n",
       "0           Other        GoPro Hero       2021-03-22  Technical issue   \n",
       "1          Female       LG Smart TV       2021-05-22  Technical issue   \n",
       "2           Other          Dell XPS       2020-07-14  Technical issue   \n",
       "3          Female  Microsoft Office       2020-11-13  Billing inquiry   \n",
       "4          Female  Autodesk AutoCAD       2020-02-04  Billing inquiry   \n",
       "\n",
       "             Ticket Subject  \\\n",
       "0             Product setup   \n",
       "1  Peripheral compatibility   \n",
       "2           Network problem   \n",
       "3            Account access   \n",
       "4                 Data loss   \n",
       "\n",
       "                                  Ticket Description  \\\n",
       "0  I'm having an issue with the {product_purchase...   \n",
       "1  I'm having an issue with the {product_purchase...   \n",
       "2  I'm facing a problem with my {product_purchase...   \n",
       "3  I'm having an issue with the {product_purchase...   \n",
       "4  I'm having an issue with the {product_purchase...   \n",
       "\n",
       "               Ticket Status                                     Resolution  \\\n",
       "0  Pending Customer Response                                            NaN   \n",
       "1  Pending Customer Response                                            NaN   \n",
       "2                     Closed   Case maybe show recently my computer follow.   \n",
       "3                     Closed  Try capital clearly never color toward story.   \n",
       "4                     Closed                    West decision evidence bit.   \n",
       "\n",
       "  Ticket Priority Ticket Channel  First Response Time   Time to Resolution  \\\n",
       "0        Critical   Social media  2023-06-01 12:15:36                  NaN   \n",
       "1        Critical           Chat  2023-06-01 16:45:38                  NaN   \n",
       "2             Low   Social media  2023-06-01 11:14:38  2023-06-01 18:05:38   \n",
       "3             Low   Social media  2023-06-01 07:29:40  2023-06-01 01:57:40   \n",
       "4             Low          Email  2023-06-01 00:12:42  2023-06-01 19:53:42   \n",
       "\n",
       "   Customer Satisfaction Rating  \n",
       "0                           NaN  \n",
       "1                           NaN  \n",
       "2                           3.0  \n",
       "3                           3.0  \n",
       "4                           1.0  "
      ]
     },
     "execution_count": 1,
     "metadata": {},
     "output_type": "execute_result"
    }
   ],
   "source": [
    "import pandas as pd  # Step 1: Import required libraries\n",
    "import numpy as np\n",
    "\n",
    "df = pd.read_csv(\"customer_support_tickets.csv\")  # Load the dataset\n",
    "\n",
    "df.head()  # Display the first few rows"
   ]
  },
  {
   "cell_type": "code",
   "execution_count": 2,
   "id": "01a4c64f-8a0a-4a9b-b2c8-f17ce57eac9e",
   "metadata": {},
   "outputs": [
    {
     "data": {
      "text/plain": [
       "((8469, 11),\n",
       " Index(['Customer Age', 'Customer Gender', 'Product Purchased',\n",
       "        'Date of Purchase', 'Ticket Type', 'Ticket Status', 'Ticket Priority',\n",
       "        'Ticket Channel', 'First Response Time', 'Time to Resolution',\n",
       "        'Customer Satisfaction Rating'],\n",
       "       dtype='object'))"
      ]
     },
     "execution_count": 2,
     "metadata": {},
     "output_type": "execute_result"
    }
   ],
   "source": [
    "df.drop(columns=[                                             # Drop unnecessary columns\n",
    "    'Ticket ID', 'Customer Name', 'Customer Email',\n",
    "    'Ticket Subject', 'Ticket Description', 'Resolution'\n",
    "], inplace=True)\n",
    "\n",
    "df.shape, df.columns  # Check shape and column names"
   ]
  },
  {
   "cell_type": "code",
   "execution_count": 3,
   "id": "c460f541-68cf-4ee2-9239-597aa0291b4c",
   "metadata": {},
   "outputs": [
    {
     "data": {
      "text/plain": [
       "Customer Age                       0\n",
       "Customer Gender                    0\n",
       "Product Purchased                  0\n",
       "Date of Purchase                   0\n",
       "Ticket Type                        0\n",
       "Ticket Status                      0\n",
       "Ticket Priority                    0\n",
       "Ticket Channel                     0\n",
       "First Response Time             2819\n",
       "Time to Resolution              5700\n",
       "Customer Satisfaction Rating    5700\n",
       "dtype: int64"
      ]
     },
     "execution_count": 3,
     "metadata": {},
     "output_type": "execute_result"
    }
   ],
   "source": [
    "df.isnull().sum()"
   ]
  },
  {
   "cell_type": "code",
   "execution_count": 4,
   "id": "0205517e-d016-41ce-8fac-e9cbfe1b109d",
   "metadata": {},
   "outputs": [
    {
     "data": {
      "text/plain": [
       "(2769, 11)"
      ]
     },
     "execution_count": 4,
     "metadata": {},
     "output_type": "execute_result"
    }
   ],
   "source": [
    "df = df.dropna(subset=['Customer Satisfaction Rating'])  # Dropingg rows with missing target Customer Satisfaction Rating\n",
    "df = df.dropna(subset=['Time to Resolution'])  # Droping rows where resolution time is missing\n",
    "df.isnull().sum()\n",
    "df.shape"
   ]
  },
  {
   "cell_type": "code",
   "execution_count": 5,
   "id": "275c6ba0-2e45-4d06-b255-4bdc9492da43",
   "metadata": {},
   "outputs": [
    {
     "name": "stdout",
     "output_type": "stream",
     "text": [
      "['Customer Age', 'Customer Gender', 'Product Purchased', 'Date of Purchase', 'Ticket Type', 'Ticket Status', 'Ticket Priority', 'Ticket Channel', 'First Response Time', 'Time to Resolution', 'Customer Satisfaction Rating']\n"
     ]
    }
   ],
   "source": [
    "print(df.columns.tolist())\n"
   ]
  },
  {
   "cell_type": "code",
   "execution_count": 6,
   "id": "6d792127-9ffd-453c-91d6-c24324c9ca1d",
   "metadata": {},
   "outputs": [],
   "source": [
    "df = df.drop(columns=['First Response Time'], errors='ignore')  #got error while drop of First Response Time \n"
   ]
  },
  {
   "cell_type": "code",
   "execution_count": 7,
   "id": "87a67bc4-a85f-49f0-b8d2-1a27c5540792",
   "metadata": {},
   "outputs": [
    {
     "name": "stdout",
     "output_type": "stream",
     "text": [
      "['Customer Age', 'Customer Gender', 'Product Purchased', 'Date of Purchase', 'Ticket Type', 'Ticket Status', 'Ticket Priority', 'Ticket Channel', 'Time to Resolution', 'Customer Satisfaction Rating']\n"
     ]
    }
   ],
   "source": [
    "print(df.columns.tolist())\n"
   ]
  },
  {
   "cell_type": "code",
   "execution_count": 8,
   "id": "fe9eba2d-ec4d-4fe9-9721-63195a48dd3c",
   "metadata": {},
   "outputs": [
    {
     "name": "stdout",
     "output_type": "stream",
     "text": [
      "(2769, 57)\n"
     ]
    },
    {
     "data": {
      "text/html": [
       "<div>\n",
       "<style scoped>\n",
       "    .dataframe tbody tr th:only-of-type {\n",
       "        vertical-align: middle;\n",
       "    }\n",
       "\n",
       "    .dataframe tbody tr th {\n",
       "        vertical-align: top;\n",
       "    }\n",
       "\n",
       "    .dataframe thead th {\n",
       "        text-align: right;\n",
       "    }\n",
       "</style>\n",
       "<table border=\"1\" class=\"dataframe\">\n",
       "  <thead>\n",
       "    <tr style=\"text-align: right;\">\n",
       "      <th></th>\n",
       "      <th>Customer Age</th>\n",
       "      <th>Date of Purchase</th>\n",
       "      <th>Time to Resolution</th>\n",
       "      <th>Customer Satisfaction Rating</th>\n",
       "      <th>Customer Gender_Male</th>\n",
       "      <th>Customer Gender_Other</th>\n",
       "      <th>Product Purchased_Amazon Echo</th>\n",
       "      <th>Product Purchased_Amazon Kindle</th>\n",
       "      <th>Product Purchased_Apple AirPods</th>\n",
       "      <th>Product Purchased_Asus ROG</th>\n",
       "      <th>...</th>\n",
       "      <th>Ticket Type_Cancellation request</th>\n",
       "      <th>Ticket Type_Product inquiry</th>\n",
       "      <th>Ticket Type_Refund request</th>\n",
       "      <th>Ticket Type_Technical issue</th>\n",
       "      <th>Ticket Priority_High</th>\n",
       "      <th>Ticket Priority_Low</th>\n",
       "      <th>Ticket Priority_Medium</th>\n",
       "      <th>Ticket Channel_Email</th>\n",
       "      <th>Ticket Channel_Phone</th>\n",
       "      <th>Ticket Channel_Social media</th>\n",
       "    </tr>\n",
       "  </thead>\n",
       "  <tbody>\n",
       "    <tr>\n",
       "      <th>2</th>\n",
       "      <td>48</td>\n",
       "      <td>2020-07-14</td>\n",
       "      <td>2023-06-01 18:05:38</td>\n",
       "      <td>3.0</td>\n",
       "      <td>False</td>\n",
       "      <td>True</td>\n",
       "      <td>False</td>\n",
       "      <td>False</td>\n",
       "      <td>False</td>\n",
       "      <td>False</td>\n",
       "      <td>...</td>\n",
       "      <td>False</td>\n",
       "      <td>False</td>\n",
       "      <td>False</td>\n",
       "      <td>True</td>\n",
       "      <td>False</td>\n",
       "      <td>True</td>\n",
       "      <td>False</td>\n",
       "      <td>False</td>\n",
       "      <td>False</td>\n",
       "      <td>True</td>\n",
       "    </tr>\n",
       "    <tr>\n",
       "      <th>3</th>\n",
       "      <td>27</td>\n",
       "      <td>2020-11-13</td>\n",
       "      <td>2023-06-01 01:57:40</td>\n",
       "      <td>3.0</td>\n",
       "      <td>False</td>\n",
       "      <td>False</td>\n",
       "      <td>False</td>\n",
       "      <td>False</td>\n",
       "      <td>False</td>\n",
       "      <td>False</td>\n",
       "      <td>...</td>\n",
       "      <td>False</td>\n",
       "      <td>False</td>\n",
       "      <td>False</td>\n",
       "      <td>False</td>\n",
       "      <td>False</td>\n",
       "      <td>True</td>\n",
       "      <td>False</td>\n",
       "      <td>False</td>\n",
       "      <td>False</td>\n",
       "      <td>True</td>\n",
       "    </tr>\n",
       "    <tr>\n",
       "      <th>4</th>\n",
       "      <td>67</td>\n",
       "      <td>2020-02-04</td>\n",
       "      <td>2023-06-01 19:53:42</td>\n",
       "      <td>1.0</td>\n",
       "      <td>False</td>\n",
       "      <td>False</td>\n",
       "      <td>False</td>\n",
       "      <td>False</td>\n",
       "      <td>False</td>\n",
       "      <td>False</td>\n",
       "      <td>...</td>\n",
       "      <td>False</td>\n",
       "      <td>False</td>\n",
       "      <td>False</td>\n",
       "      <td>False</td>\n",
       "      <td>False</td>\n",
       "      <td>True</td>\n",
       "      <td>False</td>\n",
       "      <td>True</td>\n",
       "      <td>False</td>\n",
       "      <td>False</td>\n",
       "    </tr>\n",
       "    <tr>\n",
       "      <th>10</th>\n",
       "      <td>48</td>\n",
       "      <td>2021-01-19</td>\n",
       "      <td>2023-05-31 23:51:49</td>\n",
       "      <td>1.0</td>\n",
       "      <td>True</td>\n",
       "      <td>False</td>\n",
       "      <td>False</td>\n",
       "      <td>False</td>\n",
       "      <td>False</td>\n",
       "      <td>False</td>\n",
       "      <td>...</td>\n",
       "      <td>True</td>\n",
       "      <td>False</td>\n",
       "      <td>False</td>\n",
       "      <td>False</td>\n",
       "      <td>True</td>\n",
       "      <td>False</td>\n",
       "      <td>False</td>\n",
       "      <td>False</td>\n",
       "      <td>True</td>\n",
       "      <td>False</td>\n",
       "    </tr>\n",
       "    <tr>\n",
       "      <th>11</th>\n",
       "      <td>51</td>\n",
       "      <td>2021-10-24</td>\n",
       "      <td>2023-06-01 09:27:51</td>\n",
       "      <td>1.0</td>\n",
       "      <td>True</td>\n",
       "      <td>False</td>\n",
       "      <td>False</td>\n",
       "      <td>False</td>\n",
       "      <td>False</td>\n",
       "      <td>False</td>\n",
       "      <td>...</td>\n",
       "      <td>False</td>\n",
       "      <td>True</td>\n",
       "      <td>False</td>\n",
       "      <td>False</td>\n",
       "      <td>True</td>\n",
       "      <td>False</td>\n",
       "      <td>False</td>\n",
       "      <td>False</td>\n",
       "      <td>False</td>\n",
       "      <td>False</td>\n",
       "    </tr>\n",
       "  </tbody>\n",
       "</table>\n",
       "<p>5 rows × 57 columns</p>\n",
       "</div>"
      ],
      "text/plain": [
       "    Customer Age Date of Purchase   Time to Resolution  \\\n",
       "2             48       2020-07-14  2023-06-01 18:05:38   \n",
       "3             27       2020-11-13  2023-06-01 01:57:40   \n",
       "4             67       2020-02-04  2023-06-01 19:53:42   \n",
       "10            48       2021-01-19  2023-05-31 23:51:49   \n",
       "11            51       2021-10-24  2023-06-01 09:27:51   \n",
       "\n",
       "    Customer Satisfaction Rating  Customer Gender_Male  Customer Gender_Other  \\\n",
       "2                            3.0                 False                   True   \n",
       "3                            3.0                 False                  False   \n",
       "4                            1.0                 False                  False   \n",
       "10                           1.0                  True                  False   \n",
       "11                           1.0                  True                  False   \n",
       "\n",
       "    Product Purchased_Amazon Echo  Product Purchased_Amazon Kindle  \\\n",
       "2                           False                            False   \n",
       "3                           False                            False   \n",
       "4                           False                            False   \n",
       "10                          False                            False   \n",
       "11                          False                            False   \n",
       "\n",
       "    Product Purchased_Apple AirPods  Product Purchased_Asus ROG  ...  \\\n",
       "2                             False                       False  ...   \n",
       "3                             False                       False  ...   \n",
       "4                             False                       False  ...   \n",
       "10                            False                       False  ...   \n",
       "11                            False                       False  ...   \n",
       "\n",
       "    Ticket Type_Cancellation request  Ticket Type_Product inquiry  \\\n",
       "2                              False                        False   \n",
       "3                              False                        False   \n",
       "4                              False                        False   \n",
       "10                              True                        False   \n",
       "11                             False                         True   \n",
       "\n",
       "    Ticket Type_Refund request  Ticket Type_Technical issue  \\\n",
       "2                        False                         True   \n",
       "3                        False                        False   \n",
       "4                        False                        False   \n",
       "10                       False                        False   \n",
       "11                       False                        False   \n",
       "\n",
       "    Ticket Priority_High  Ticket Priority_Low  Ticket Priority_Medium  \\\n",
       "2                  False                 True                   False   \n",
       "3                  False                 True                   False   \n",
       "4                  False                 True                   False   \n",
       "10                  True                False                   False   \n",
       "11                  True                False                   False   \n",
       "\n",
       "    Ticket Channel_Email  Ticket Channel_Phone  Ticket Channel_Social media  \n",
       "2                  False                 False                         True  \n",
       "3                  False                 False                         True  \n",
       "4                   True                 False                        False  \n",
       "10                 False                  True                        False  \n",
       "11                 False                 False                        False  \n",
       "\n",
       "[5 rows x 57 columns]"
      ]
     },
     "execution_count": 8,
     "metadata": {},
     "output_type": "execute_result"
    }
   ],
   "source": [
    "categorical_cols = ['Customer Gender', 'Product Purchased', 'Ticket Type',  # Listing of all categorical columns to encode\n",
    "                    'Ticket Status', 'Ticket Priority', 'Ticket Channel']  \n",
    "\n",
    "df_encoded = pd.get_dummies(df, columns=categorical_cols, drop_first=True)  # drop the first column to avoid multiple\n",
    "\n",
    "print(df_encoded.shape)  # Show new shape\n",
    "df_encoded.head()"
   ]
  },
  {
   "cell_type": "code",
   "execution_count": 9,
   "id": "58b09959-d13f-41a8-9ca5-f37d3da77a40",
   "metadata": {},
   "outputs": [],
   "source": [
    "from sklearn.model_selection import train_test_split\n",
    "\n",
    "X = df_encoded.drop(columns=['Customer Satisfaction Rating'])  # Features\n",
    "y = df_encoded['Customer Satisfaction Rating']                 # Target\n",
    "\n",
    "X_train, X_test, y_train, y_test = train_test_split(X, y, test_size=0.2, random_state=42)"
   ]
  },
  {
   "cell_type": "code",
   "execution_count": 10,
   "id": "7abe56de-0946-4a59-a68d-6eaa14873c2a",
   "metadata": {},
   "outputs": [
    {
     "data": {
      "text/html": [
       "<div>\n",
       "<style scoped>\n",
       "    .dataframe tbody tr th:only-of-type {\n",
       "        vertical-align: middle;\n",
       "    }\n",
       "\n",
       "    .dataframe tbody tr th {\n",
       "        vertical-align: top;\n",
       "    }\n",
       "\n",
       "    .dataframe thead th {\n",
       "        text-align: right;\n",
       "    }\n",
       "</style>\n",
       "<table border=\"1\" class=\"dataframe\">\n",
       "  <thead>\n",
       "    <tr style=\"text-align: right;\">\n",
       "      <th></th>\n",
       "      <th>Purchase_Year</th>\n",
       "      <th>Purchase_Month</th>\n",
       "      <th>Purchase_Day</th>\n",
       "      <th>Resolution_Seconds</th>\n",
       "    </tr>\n",
       "  </thead>\n",
       "  <tbody>\n",
       "    <tr>\n",
       "      <th>2</th>\n",
       "      <td>2020</td>\n",
       "      <td>7</td>\n",
       "      <td>14</td>\n",
       "      <td>72728.0</td>\n",
       "    </tr>\n",
       "    <tr>\n",
       "      <th>3</th>\n",
       "      <td>2020</td>\n",
       "      <td>11</td>\n",
       "      <td>13</td>\n",
       "      <td>14650.0</td>\n",
       "    </tr>\n",
       "    <tr>\n",
       "      <th>4</th>\n",
       "      <td>2020</td>\n",
       "      <td>2</td>\n",
       "      <td>4</td>\n",
       "      <td>79212.0</td>\n",
       "    </tr>\n",
       "    <tr>\n",
       "      <th>10</th>\n",
       "      <td>2021</td>\n",
       "      <td>1</td>\n",
       "      <td>19</td>\n",
       "      <td>7099.0</td>\n",
       "    </tr>\n",
       "    <tr>\n",
       "      <th>11</th>\n",
       "      <td>2021</td>\n",
       "      <td>10</td>\n",
       "      <td>24</td>\n",
       "      <td>41661.0</td>\n",
       "    </tr>\n",
       "  </tbody>\n",
       "</table>\n",
       "</div>"
      ],
      "text/plain": [
       "    Purchase_Year  Purchase_Month  Purchase_Day  Resolution_Seconds\n",
       "2            2020               7            14             72728.0\n",
       "3            2020              11            13             14650.0\n",
       "4            2020               2             4             79212.0\n",
       "10           2021               1            19              7099.0\n",
       "11           2021              10            24             41661.0"
      ]
     },
     "execution_count": 10,
     "metadata": {},
     "output_type": "execute_result"
    }
   ],
   "source": [
    "df['Date of Purchase'] = pd.to_datetime(df['Date of Purchase'], errors='coerce')  # Convert Date of Purchase to datetime and extract year, month, day\n",
    "df['Purchase_Year'] = df['Date of Purchase'].dt.year\n",
    "df['Purchase_Month'] = df['Date of Purchase'].dt.month\n",
    "df['Purchase_Day'] = df['Date of Purchase'].dt.day\n",
    "df = df.drop(columns=['Date of Purchase'])  # Drop original column after extraction\n",
    "\n",
    "df['Time to Resolution'] = pd.to_datetime(df['Time to Resolution'], errors='coerce')  # Convert Time to Resolution to datetime and convert to total seconds from a reference point\n",
    "df['Resolution_Seconds'] = (df['Time to Resolution'] - df['Time to Resolution'].min()).dt.total_seconds()\n",
    "df = df.drop(columns=['Time to Resolution'])  # Drop original column after conversion\n",
    "\n",
    "df[['Purchase_Year', 'Purchase_Month', 'Purchase_Day', 'Resolution_Seconds']].head()  # Check the results\n"
   ]
  },
  {
   "cell_type": "code",
   "execution_count": 11,
   "id": "0cac7cef-e35c-45a4-89a0-c1be827fb069",
   "metadata": {},
   "outputs": [
    {
     "name": "stdout",
     "output_type": "stream",
     "text": [
      "Index([], dtype='object')\n"
     ]
    }
   ],
   "source": [
    "print(df_encoded.select_dtypes(include=['datetime64[ns]']).columns)\n"
   ]
  },
  {
   "cell_type": "code",
   "execution_count": 12,
   "id": "edec9823-b5c4-4e16-b077-d077deb3a5d6",
   "metadata": {},
   "outputs": [
    {
     "name": "stdout",
     "output_type": "stream",
     "text": [
      "Customer Age                                         int64\n",
      "Date of Purchase                                    object\n",
      "Time to Resolution                                  object\n",
      "Customer Gender_Male                                  bool\n",
      "Customer Gender_Other                                 bool\n",
      "Product Purchased_Amazon Echo                         bool\n",
      "Product Purchased_Amazon Kindle                       bool\n",
      "Product Purchased_Apple AirPods                       bool\n",
      "Product Purchased_Asus ROG                            bool\n",
      "Product Purchased_Autodesk AutoCAD                    bool\n",
      "Product Purchased_Bose QuietComfort                   bool\n",
      "Product Purchased_Bose SoundLink Speaker              bool\n",
      "Product Purchased_Canon DSLR Camera                   bool\n",
      "Product Purchased_Canon EOS                           bool\n",
      "Product Purchased_Dell XPS                            bool\n",
      "Product Purchased_Dyson Vacuum Cleaner                bool\n",
      "Product Purchased_Fitbit Charge                       bool\n",
      "Product Purchased_Fitbit Versa Smartwatch             bool\n",
      "Product Purchased_Garmin Forerunner                   bool\n",
      "Product Purchased_GoPro Action Camera                 bool\n",
      "Product Purchased_GoPro Hero                          bool\n",
      "Product Purchased_Google Nest                         bool\n",
      "Product Purchased_Google Pixel                        bool\n",
      "Product Purchased_HP Pavilion                         bool\n",
      "Product Purchased_LG OLED                             bool\n",
      "Product Purchased_LG Smart TV                         bool\n",
      "Product Purchased_LG Washing Machine                  bool\n",
      "Product Purchased_Lenovo ThinkPad                     bool\n",
      "Product Purchased_MacBook Pro                         bool\n",
      "Product Purchased_Microsoft Office                    bool\n",
      "Product Purchased_Microsoft Surface                   bool\n",
      "Product Purchased_Microsoft Xbox Controller           bool\n",
      "Product Purchased_Nest Thermostat                     bool\n",
      "Product Purchased_Nikon D                             bool\n",
      "Product Purchased_Nintendo Switch                     bool\n",
      "Product Purchased_Nintendo Switch Pro Controller      bool\n",
      "Product Purchased_Philips Hue Lights                  bool\n",
      "Product Purchased_PlayStation                         bool\n",
      "Product Purchased_Roomba Robot Vacuum                 bool\n",
      "Product Purchased_Samsung Galaxy                      bool\n",
      "Product Purchased_Samsung Soundbar                    bool\n",
      "Product Purchased_Sony 4K HDR TV                      bool\n",
      "Product Purchased_Sony PlayStation                    bool\n",
      "Product Purchased_Sony Xperia                         bool\n",
      "Product Purchased_Xbox                                bool\n",
      "Product Purchased_iPhone                              bool\n",
      "Ticket Type_Cancellation request                      bool\n",
      "Ticket Type_Product inquiry                           bool\n",
      "Ticket Type_Refund request                            bool\n",
      "Ticket Type_Technical issue                           bool\n",
      "Ticket Priority_High                                  bool\n",
      "Ticket Priority_Low                                   bool\n",
      "Ticket Priority_Medium                                bool\n",
      "Ticket Channel_Email                                  bool\n",
      "Ticket Channel_Phone                                  bool\n",
      "Ticket Channel_Social media                           bool\n",
      "dtype: object\n"
     ]
    }
   ],
   "source": [
    "print(X_train.dtypes)\n"
   ]
  },
  {
   "cell_type": "code",
   "execution_count": 13,
   "id": "cf7185a7-7b08-4678-abd2-c7b63139c26a",
   "metadata": {},
   "outputs": [
    {
     "name": "stdout",
     "output_type": "stream",
     "text": [
      "Non-numeric columns in X_train: ['Date of Purchase', 'Time to Resolution', 'Customer Gender_Male', 'Customer Gender_Other', 'Product Purchased_Amazon Echo', 'Product Purchased_Amazon Kindle', 'Product Purchased_Apple AirPods', 'Product Purchased_Asus ROG', 'Product Purchased_Autodesk AutoCAD', 'Product Purchased_Bose QuietComfort', 'Product Purchased_Bose SoundLink Speaker', 'Product Purchased_Canon DSLR Camera', 'Product Purchased_Canon EOS', 'Product Purchased_Dell XPS', 'Product Purchased_Dyson Vacuum Cleaner', 'Product Purchased_Fitbit Charge', 'Product Purchased_Fitbit Versa Smartwatch', 'Product Purchased_Garmin Forerunner', 'Product Purchased_GoPro Action Camera', 'Product Purchased_GoPro Hero', 'Product Purchased_Google Nest', 'Product Purchased_Google Pixel', 'Product Purchased_HP Pavilion', 'Product Purchased_LG OLED', 'Product Purchased_LG Smart TV', 'Product Purchased_LG Washing Machine', 'Product Purchased_Lenovo ThinkPad', 'Product Purchased_MacBook Pro', 'Product Purchased_Microsoft Office', 'Product Purchased_Microsoft Surface', 'Product Purchased_Microsoft Xbox Controller', 'Product Purchased_Nest Thermostat', 'Product Purchased_Nikon D', 'Product Purchased_Nintendo Switch', 'Product Purchased_Nintendo Switch Pro Controller', 'Product Purchased_Philips Hue Lights', 'Product Purchased_PlayStation', 'Product Purchased_Roomba Robot Vacuum', 'Product Purchased_Samsung Galaxy', 'Product Purchased_Samsung Soundbar', 'Product Purchased_Sony 4K HDR TV', 'Product Purchased_Sony PlayStation', 'Product Purchased_Sony Xperia', 'Product Purchased_Xbox', 'Product Purchased_iPhone', 'Ticket Type_Cancellation request', 'Ticket Type_Product inquiry', 'Ticket Type_Refund request', 'Ticket Type_Technical issue', 'Ticket Priority_High', 'Ticket Priority_Low', 'Ticket Priority_Medium', 'Ticket Channel_Email', 'Ticket Channel_Phone', 'Ticket Channel_Social media']\n"
     ]
    }
   ],
   "source": [
    "non_numeric_cols = X_train.select_dtypes(exclude=['number']).columns.tolist()\n",
    "print(\"Non-numeric columns in X_train:\", non_numeric_cols)\n"
   ]
  },
  {
   "cell_type": "code",
   "execution_count": 14,
   "id": "6aeba382-7f2b-429a-9b61-fe15cc4efa26",
   "metadata": {},
   "outputs": [
    {
     "name": "stdout",
     "output_type": "stream",
     "text": [
      "Non-numeric columns in X_test: ['Date of Purchase', 'Time to Resolution', 'Customer Gender_Male', 'Customer Gender_Other', 'Product Purchased_Amazon Echo', 'Product Purchased_Amazon Kindle', 'Product Purchased_Apple AirPods', 'Product Purchased_Asus ROG', 'Product Purchased_Autodesk AutoCAD', 'Product Purchased_Bose QuietComfort', 'Product Purchased_Bose SoundLink Speaker', 'Product Purchased_Canon DSLR Camera', 'Product Purchased_Canon EOS', 'Product Purchased_Dell XPS', 'Product Purchased_Dyson Vacuum Cleaner', 'Product Purchased_Fitbit Charge', 'Product Purchased_Fitbit Versa Smartwatch', 'Product Purchased_Garmin Forerunner', 'Product Purchased_GoPro Action Camera', 'Product Purchased_GoPro Hero', 'Product Purchased_Google Nest', 'Product Purchased_Google Pixel', 'Product Purchased_HP Pavilion', 'Product Purchased_LG OLED', 'Product Purchased_LG Smart TV', 'Product Purchased_LG Washing Machine', 'Product Purchased_Lenovo ThinkPad', 'Product Purchased_MacBook Pro', 'Product Purchased_Microsoft Office', 'Product Purchased_Microsoft Surface', 'Product Purchased_Microsoft Xbox Controller', 'Product Purchased_Nest Thermostat', 'Product Purchased_Nikon D', 'Product Purchased_Nintendo Switch', 'Product Purchased_Nintendo Switch Pro Controller', 'Product Purchased_Philips Hue Lights', 'Product Purchased_PlayStation', 'Product Purchased_Roomba Robot Vacuum', 'Product Purchased_Samsung Galaxy', 'Product Purchased_Samsung Soundbar', 'Product Purchased_Sony 4K HDR TV', 'Product Purchased_Sony PlayStation', 'Product Purchased_Sony Xperia', 'Product Purchased_Xbox', 'Product Purchased_iPhone', 'Ticket Type_Cancellation request', 'Ticket Type_Product inquiry', 'Ticket Type_Refund request', 'Ticket Type_Technical issue', 'Ticket Priority_High', 'Ticket Priority_Low', 'Ticket Priority_Medium', 'Ticket Channel_Email', 'Ticket Channel_Phone', 'Ticket Channel_Social media']\n"
     ]
    }
   ],
   "source": [
    "non_numeric_cols_test = X_test.select_dtypes(exclude=['number']).columns.tolist()\n",
    "print(\"Non-numeric columns in X_test:\", non_numeric_cols_test)\n"
   ]
  },
  {
   "cell_type": "code",
   "execution_count": 15,
   "id": "b710ece4-7622-485a-9fd9-6a1605e5470a",
   "metadata": {},
   "outputs": [],
   "source": [
    "X_train = X_train.drop(columns=non_numeric_cols)\n",
    "X_test = X_test.drop(columns=non_numeric_cols_test)\n"
   ]
  },
  {
   "cell_type": "code",
   "execution_count": 16,
   "id": "c177cc89-829f-45dc-905e-90cc4e6895dc",
   "metadata": {},
   "outputs": [],
   "source": [
    "X_train = X_train.astype(float)\n",
    "X_test = X_test.astype(float)\n"
   ]
  },
  {
   "cell_type": "code",
   "execution_count": 17,
   "id": "83b61d9f-c95a-4aef-8c27-f8129383b2ce",
   "metadata": {},
   "outputs": [
    {
     "name": "stdout",
     "output_type": "stream",
     "text": [
      "Mean Squared Error: 1.9732292027883853\n",
      "R² Score: -0.00035449892385375215\n"
     ]
    }
   ],
   "source": [
    "from sklearn.linear_model import LinearRegression\n",
    "from sklearn.metrics import mean_squared_error, r2_score\n",
    "\n",
    "model = LinearRegression()\n",
    "model.fit(X_train, y_train)\n",
    "\n",
    "y_pred = model.predict(X_test)\n",
    "\n",
    "print(\"Mean Squared Error:\", mean_squared_error(y_test, y_pred))\n",
    "print(\"R² Score:\", r2_score(y_test, y_pred))\n"
   ]
  },
  {
   "cell_type": "code",
   "execution_count": 18,
   "id": "d20bfb72-6d7d-46e4-b739-013ddb572d5e",
   "metadata": {},
   "outputs": [
    {
     "name": "stdout",
     "output_type": "stream",
     "text": [
      "Decision Tree - Mean Squared Error: 2.06468700160335\n",
      "Decision Tree - R² Score: -0.046720233009350354\n"
     ]
    }
   ],
   "source": [
    "from sklearn.tree import DecisionTreeRegressor\n",
    "from sklearn.metrics import mean_squared_error, r2_score\n",
    "\n",
    "tree_model = DecisionTreeRegressor(random_state=42)  # Initializing the model\n",
    "\n",
    "tree_model.fit(X_train, y_train)  # Training \n",
    "  \n",
    "y_pred_tree = tree_model.predict(X_test)  # Predict on test set\n",
    "\n",
    "mse_tree = mean_squared_error(y_test, y_pred_tree)  # performance\n",
    "r2_tree = r2_score(y_test, y_pred_tree)\n",
    "\n",
    "print(\"Decision Tree - Mean Squared Error:\", mse_tree)\n",
    "print(\"Decision Tree - R² Score:\", r2_tree)\n"
   ]
  },
  {
   "cell_type": "code",
   "execution_count": 19,
   "id": "0a23beef-439d-48c5-b3ca-c5a6a82827ed",
   "metadata": {},
   "outputs": [
    {
     "name": "stdout",
     "output_type": "stream",
     "text": [
      "Random Forest - Mean Squared Error: 2.0628830931964885\n",
      "Random Forest - R² Score: -0.04580571791505683\n"
     ]
    }
   ],
   "source": [
    "from sklearn.ensemble import RandomForestRegressor                          # Random Forest didn’t improve much\n",
    "from sklearn.metrics import mean_squared_error, r2_score\n",
    "\n",
    "rf_model = RandomForestRegressor(random_state=42, n_estimators=100)  # Initializing the model\n",
    "\n",
    "rf_model.fit(X_train, y_train)   # Training \n",
    "\n",
    "y_pred_rf = rf_model.predict(X_test)  # Predict on test data\n",
    "\n",
    "mse_rf = mean_squared_error(y_test, y_pred_rf)  # Evaluate\n",
    "r2_rf = r2_score(y_test, y_pred_rf)\n",
    "\n",
    "print(\"Random Forest - Mean Squared Error:\", mse_rf)\n",
    "print(\"Random Forest - R² Score:\", r2_rf)"
   ]
  },
  {
   "cell_type": "code",
   "execution_count": 20,
   "id": "c5468fde-c137-4deb-ad05-2625c2bce00d",
   "metadata": {},
   "outputs": [
    {
     "data": {
      "text/html": [
       "<div>\n",
       "<style scoped>\n",
       "    .dataframe tbody tr th:only-of-type {\n",
       "        vertical-align: middle;\n",
       "    }\n",
       "\n",
       "    .dataframe tbody tr th {\n",
       "        vertical-align: top;\n",
       "    }\n",
       "\n",
       "    .dataframe thead th {\n",
       "        text-align: right;\n",
       "    }\n",
       "</style>\n",
       "<table border=\"1\" class=\"dataframe\">\n",
       "  <thead>\n",
       "    <tr style=\"text-align: right;\">\n",
       "      <th></th>\n",
       "      <th>Customer Age</th>\n",
       "      <th>Age_Group</th>\n",
       "    </tr>\n",
       "  </thead>\n",
       "  <tbody>\n",
       "    <tr>\n",
       "      <th>2</th>\n",
       "      <td>48</td>\n",
       "      <td>Middle</td>\n",
       "    </tr>\n",
       "    <tr>\n",
       "      <th>3</th>\n",
       "      <td>27</td>\n",
       "      <td>Young</td>\n",
       "    </tr>\n",
       "    <tr>\n",
       "      <th>4</th>\n",
       "      <td>67</td>\n",
       "      <td>Senior</td>\n",
       "    </tr>\n",
       "    <tr>\n",
       "      <th>10</th>\n",
       "      <td>48</td>\n",
       "      <td>Middle</td>\n",
       "    </tr>\n",
       "    <tr>\n",
       "      <th>11</th>\n",
       "      <td>51</td>\n",
       "      <td>Senior</td>\n",
       "    </tr>\n",
       "  </tbody>\n",
       "</table>\n",
       "</div>"
      ],
      "text/plain": [
       "    Customer Age Age_Group\n",
       "2             48    Middle\n",
       "3             27     Young\n",
       "4             67    Senior\n",
       "10            48    Middle\n",
       "11            51    Senior"
      ]
     },
     "execution_count": 20,
     "metadata": {},
     "output_type": "execute_result"
    }
   ],
   "source": [
    "df['Age_Group'] = pd.cut(df['Customer Age'], bins=[0, 30, 50, 100], labels=['Young', 'Middle', 'Senior'])  # Create Age Group feature\n",
    "\n",
    "df[['Customer Age', 'Age_Group']].head()  # new column\n"
   ]
  },
  {
   "cell_type": "code",
   "execution_count": 21,
   "id": "b154d76f-1e2c-4785-9cc5-34d44817a79a",
   "metadata": {},
   "outputs": [
    {
     "data": {
      "text/html": [
       "<div>\n",
       "<style scoped>\n",
       "    .dataframe tbody tr th:only-of-type {\n",
       "        vertical-align: middle;\n",
       "    }\n",
       "\n",
       "    .dataframe tbody tr th {\n",
       "        vertical-align: top;\n",
       "    }\n",
       "\n",
       "    .dataframe thead th {\n",
       "        text-align: right;\n",
       "    }\n",
       "</style>\n",
       "<table border=\"1\" class=\"dataframe\">\n",
       "  <thead>\n",
       "    <tr style=\"text-align: right;\">\n",
       "      <th></th>\n",
       "      <th>Resolution_Seconds</th>\n",
       "      <th>Resolution_Time_Category</th>\n",
       "    </tr>\n",
       "  </thead>\n",
       "  <tbody>\n",
       "    <tr>\n",
       "      <th>2</th>\n",
       "      <td>72728.0</td>\n",
       "      <td>Fast</td>\n",
       "    </tr>\n",
       "    <tr>\n",
       "      <th>3</th>\n",
       "      <td>14650.0</td>\n",
       "      <td>Fast</td>\n",
       "    </tr>\n",
       "    <tr>\n",
       "      <th>4</th>\n",
       "      <td>79212.0</td>\n",
       "      <td>Fast</td>\n",
       "    </tr>\n",
       "    <tr>\n",
       "      <th>10</th>\n",
       "      <td>7099.0</td>\n",
       "      <td>Fast</td>\n",
       "    </tr>\n",
       "    <tr>\n",
       "      <th>11</th>\n",
       "      <td>41661.0</td>\n",
       "      <td>Fast</td>\n",
       "    </tr>\n",
       "  </tbody>\n",
       "</table>\n",
       "</div>"
      ],
      "text/plain": [
       "    Resolution_Seconds Resolution_Time_Category\n",
       "2              72728.0                     Fast\n",
       "3              14650.0                     Fast\n",
       "4              79212.0                     Fast\n",
       "10              7099.0                     Fast\n",
       "11             41661.0                     Fast"
      ]
     },
     "execution_count": 21,
     "metadata": {},
     "output_type": "execute_result"
    }
   ],
   "source": [
    "df['Resolution_Time_Category'] = pd.cut(        # Create Resolution Time Category\n",
    "    df['Resolution_Seconds'],\n",
    "    bins=[-1, 86400, 259200, float('inf')],  # <1 day, 1-3 days, >3 days in seconds\n",
    "    labels=['Fast', 'Medium', 'Slow']\n",
    ")\n",
    "\n",
    "df[['Resolution_Seconds', 'Resolution_Time_Category']].head()  # Check new column\n"
   ]
  },
  {
   "cell_type": "code",
   "execution_count": 22,
   "id": "dfecdbcb-2860-4535-a7b9-93fee9f522ef",
   "metadata": {},
   "outputs": [],
   "source": [
    "df = pd.get_dummies(df, columns=['Age_Group', 'Resolution_Time_Category'], drop_first=True)\n"
   ]
  },
  {
   "cell_type": "code",
   "execution_count": 23,
   "id": "6f1865b3-9a69-48db-bbc7-649cff0ff1e1",
   "metadata": {},
   "outputs": [],
   "source": [
    "df = df.drop(columns=['Customer Age', 'Resolution_Seconds'])\n"
   ]
  },
  {
   "cell_type": "code",
   "execution_count": 24,
   "id": "3a3b68f5-ddcc-4614-844c-bea20d69119a",
   "metadata": {},
   "outputs": [],
   "source": [
    "X = df.drop(columns=['Customer Satisfaction Rating'])\n",
    "y = df['Customer Satisfaction Rating']\n"
   ]
  },
  {
   "cell_type": "code",
   "execution_count": 25,
   "id": "b85ea3ff-c00a-42d5-9834-e6cd3381e350",
   "metadata": {},
   "outputs": [
    {
     "name": "stdout",
     "output_type": "stream",
     "text": [
      "Customer Satisfaction Rating\n",
      "3.0    580\n",
      "1.0    553\n",
      "2.0    549\n",
      "5.0    544\n",
      "4.0    543\n",
      "Name: count, dtype: int64\n"
     ]
    }
   ],
   "source": [
    "print(df['Customer Satisfaction Rating'].value_counts())  # checking whether customers are giving how much rating\n",
    " "
   ]
  },
  {
   "cell_type": "code",
   "execution_count": 26,
   "id": "132c8c22-45a4-452e-8587-619787479383",
   "metadata": {},
   "outputs": [],
   "source": [
    "X = pd.get_dummies(X, drop_first=True)  # One-hot encode all categorical (non-numeric) columns\n"
   ]
  },
  {
   "cell_type": "code",
   "execution_count": 27,
   "id": "819d0825-fa4e-4183-8c6d-af74a5644839",
   "metadata": {},
   "outputs": [],
   "source": [
    "from sklearn.model_selection import train_test_split  # spliting \n",
    "\n",
    "X_train, X_test, y_train, y_test = train_test_split(X, y, test_size=0.2, random_state=42)\n"
   ]
  },
  {
   "cell_type": "code",
   "execution_count": 28,
   "id": "99c6d936-985b-4371-93e2-fc284813e055",
   "metadata": {},
   "outputs": [],
   "source": [
    "from sklearn.ensemble import RandomForestClassifier\n",
    "from sklearn.metrics import classification_report, accuracy_score, confusion_matrix\n",
    "\n",
    "clf = RandomForestClassifier(n_estimators=100, random_state=42)  # Initialize and train\n",
    "clf.fit(X_train, y_train)\n",
    "\n",
    "y_pred = clf.predict(X_test)  # Predicting\n"
   ]
  },
  {
   "cell_type": "code",
   "execution_count": 29,
   "id": "5498ae95-09f7-4fcf-8603-dd8322234f3b",
   "metadata": {},
   "outputs": [],
   "source": [
    "from sklearn.model_selection import train_test_split\n",
    "\n",
    "X = df.drop(columns=['Customer Satisfaction Rating'])  # Features and Target\n",
    "y = df['Customer Satisfaction Rating'].astype(int)  # Convert to int for classifier\n",
    "\n",
    "X_train, X_test, y_train, y_test = train_test_split(X, y, test_size=0.2, random_state=42)  # Train-test split\n"
   ]
  },
  {
   "cell_type": "code",
   "execution_count": 30,
   "id": "0c11e05d-bd9c-4011-b192-42b72da76e01",
   "metadata": {},
   "outputs": [
    {
     "name": "stdout",
     "output_type": "stream",
     "text": [
      "Accuracy: 0.2003610108303249\n",
      "\n",
      "Classification Report:\n",
      "              precision    recall  f1-score   support\n",
      "\n",
      "           1       0.24      0.28      0.26       109\n",
      "           2       0.20      0.19      0.19       117\n",
      "           3       0.18      0.21      0.20       112\n",
      "           4       0.19      0.19      0.19       108\n",
      "           5       0.18      0.14      0.16       108\n",
      "\n",
      "    accuracy                           0.20       554\n",
      "   macro avg       0.20      0.20      0.20       554\n",
      "weighted avg       0.20      0.20      0.20       554\n",
      "\n",
      "\n",
      "Confusion Matrix:\n",
      "[[30 17 28 16 18]\n",
      " [25 22 27 29 14]\n",
      " [30 23 24 18 17]\n",
      " [21 22 27 20 18]\n",
      " [18 28 26 21 15]]\n"
     ]
    }
   ],
   "source": [
    "print(\"Accuracy:\", accuracy_score(y_test, y_pred))\n",
    "\n",
    "print(\"\\nClassification Report:\")\n",
    "print(classification_report(y_test, y_pred))\n",
    "\n",
    "print(\"\\nConfusion Matrix:\")  # Optional: Confusion matrix\n",
    "print(confusion_matrix(y_test, y_pred))\n"
   ]
  },
  {
   "cell_type": "code",
   "execution_count": 31,
   "id": "475d7e8d-e3e3-4d71-9dd9-9cb8f8b78891",
   "metadata": {},
   "outputs": [
    {
     "name": "stdout",
     "output_type": "stream",
     "text": [
      "Satisfaction_Class\n",
      "Low        1102\n",
      "High       1087\n",
      "Neutral     580\n",
      "Name: count, dtype: int64\n"
     ]
    }
   ],
   "source": [
    "df['Satisfaction_Class'] = df['Customer Satisfaction Rating'].map({  # Group ratings into Low (1-2), Neutral (3), and High (4-5)\n",
    "    1: 'Low',\n",
    "    2: 'Low',\n",
    "    3: 'Neutral',\n",
    "    4: 'High',\n",
    "    5: 'High'\n",
    "})\n",
    "print(df['Satisfaction_Class'].value_counts())\n"
   ]
  },
  {
   "cell_type": "code",
   "execution_count": 32,
   "id": "ec78e80e-fe80-42f6-be4c-8053492a0a9a",
   "metadata": {},
   "outputs": [],
   "source": [
    "X = df.drop(columns=['Customer Satisfaction Rating', 'Satisfaction_Class'])\n",
    "y = df['Satisfaction_Class']\n"
   ]
  },
  {
   "cell_type": "code",
   "execution_count": 33,
   "id": "31d4417c-daf2-40a2-9ff3-c7a9ec18f6a5",
   "metadata": {},
   "outputs": [],
   "source": [
    "X = pd.get_dummies(X, drop_first=True)\n"
   ]
  },
  {
   "cell_type": "code",
   "execution_count": 34,
   "id": "7e4d1259-92e5-41e8-87be-bd1aa4c53709",
   "metadata": {},
   "outputs": [],
   "source": [
    "from sklearn.model_selection import train_test_split\n",
    "\n",
    "X_train, X_test, y_train, y_test = train_test_split(X, y, test_size=0.2, random_state=42)\n"
   ]
  },
  {
   "cell_type": "code",
   "execution_count": 35,
   "id": "d31f3e19-30dc-4bcd-b31c-f9b2c75ed886",
   "metadata": {},
   "outputs": [
    {
     "name": "stdout",
     "output_type": "stream",
     "text": [
      "Accuracy: 0.37364620938628157\n",
      "\n",
      "Classification Report:\n",
      "               precision    recall  f1-score   support\n",
      "\n",
      "        High       0.38      0.43      0.40       216\n",
      "         Low       0.39      0.49      0.43       226\n",
      "     Neutral       0.17      0.04      0.07       112\n",
      "\n",
      "    accuracy                           0.37       554\n",
      "   macro avg       0.31      0.32      0.30       554\n",
      "weighted avg       0.34      0.37      0.35       554\n",
      "\n",
      "\n",
      "Confusion Matrix:\n",
      " [[ 92 114  10]\n",
      " [101 110  15]\n",
      " [ 51  56   5]]\n"
     ]
    }
   ],
   "source": [
    "from sklearn.ensemble import RandomForestClassifier\n",
    "from sklearn.metrics import classification_report, confusion_matrix, accuracy_score\n",
    "\n",
    "clf = RandomForestClassifier(n_estimators=100, random_state=42)\n",
    "clf.fit(X_train, y_train)\n",
    "y_pred = clf.predict(X_test)\n",
    "\n",
    "print(\"Accuracy:\", accuracy_score(y_test, y_pred))\n",
    "print(\"\\nClassification Report:\\n\", classification_report(y_test, y_pred))\n",
    "print(\"\\nConfusion Matrix:\\n\", confusion_matrix(y_test, y_pred))\n"
   ]
  },
  {
   "cell_type": "code",
   "execution_count": 36,
   "id": "d0518f2f-dcf8-4e83-9a59-a157404540e2",
   "metadata": {},
   "outputs": [
    {
     "name": "stdout",
     "output_type": "stream",
     "text": [
      "['Customer Gender', 'Product Purchased', 'Ticket Type', 'Ticket Status', 'Ticket Priority', 'Ticket Channel', 'Customer Satisfaction Rating', 'Purchase_Year', 'Purchase_Month', 'Purchase_Day', 'Age_Group_Middle', 'Age_Group_Senior', 'Resolution_Time_Category_Medium', 'Resolution_Time_Category_Slow', 'Satisfaction_Class']\n"
     ]
    }
   ],
   "source": [
    "print(df.columns.tolist())\n"
   ]
  },
  {
   "cell_type": "code",
   "execution_count": 37,
   "id": "254c454f-de2c-4490-8d0a-6a4605077155",
   "metadata": {},
   "outputs": [],
   "source": [
    "df_full = pd.read_csv(\"customer_support_tickets.csv\")  # or your file name\n"
   ]
  },
  {
   "cell_type": "code",
   "execution_count": 38,
   "id": "dfc20c9b-5f4d-4819-9dc8-da2866a0eae0",
   "metadata": {},
   "outputs": [
    {
     "name": "stdout",
     "output_type": "stream",
     "text": [
      "['Ticket ID', 'Customer Name', 'Customer Email', 'Customer Age', 'Customer Gender', 'Product Purchased', 'Date of Purchase', 'Ticket Type', 'Ticket Subject', 'Ticket Description', 'Ticket Status', 'Resolution', 'Ticket Priority', 'Ticket Channel', 'First Response Time', 'Time to Resolution', 'Customer Satisfaction Rating']\n"
     ]
    }
   ],
   "source": [
    "print(df_full.columns.tolist())\n"
   ]
  },
  {
   "cell_type": "code",
   "execution_count": 39,
   "id": "ee58fa3c-268c-4c33-aa0b-b5fd14dc79a6",
   "metadata": {},
   "outputs": [
    {
     "name": "stdout",
     "output_type": "stream",
     "text": [
      "Original full df columns: ['Ticket ID', 'Customer Name', 'Customer Email', 'Customer Age', 'Customer Gender', 'Product Purchased', 'Date of Purchase', 'Ticket Type', 'Ticket Subject', 'Ticket Description', 'Ticket Status', 'Resolution', 'Ticket Priority', 'Ticket Channel', 'First Response Time', 'Time to Resolution', 'Customer Satisfaction Rating']\n",
      "Cleaned df columns: ['Customer Gender', 'Product Purchased', 'Ticket Type', 'Ticket Status', 'Ticket Priority', 'Ticket Channel', 'Customer Satisfaction Rating', 'Purchase_Year', 'Purchase_Month', 'Purchase_Day', 'Age_Group_Middle', 'Age_Group_Senior', 'Resolution_Time_Category_Medium', 'Resolution_Time_Category_Slow', 'Satisfaction_Class']\n"
     ]
    }
   ],
   "source": [
    "print(\"Original full df columns:\", df_full.columns.tolist())\n",
    "print(\"Cleaned df columns:\", df.columns.tolist())\n"
   ]
  },
  {
   "cell_type": "code",
   "execution_count": 40,
   "id": "9ad61f2a-be1f-47cd-b850-0844d7177b9a",
   "metadata": {},
   "outputs": [],
   "source": [
    "df = df.reset_index(drop=True)\n",
    "df_full = df_full.reset_index(drop=True)\n",
    "\n",
    "df['Ticket Subject'] = df_full['Ticket Subject']  # Adding back\n",
    "df['Ticket Description'] = df_full['Ticket Description']\n"
   ]
  },
  {
   "cell_type": "code",
   "execution_count": 41,
   "id": "09127e4a-2b5d-4bc0-adec-55b97ddcee71",
   "metadata": {},
   "outputs": [],
   "source": [
    "df['Description_Length'] = df['Ticket Description'].str.len()\n",
    "df['Subject_Length']     = df['Ticket Subject'].str.len()\n",
    "\n",
    "#df = df.drop(columns=['Ticket Description','Ticket Subject'])\n"
   ]
  },
  {
   "cell_type": "code",
   "execution_count": 42,
   "id": "4affb420-68ce-4472-b20a-01b2588acca6",
   "metadata": {},
   "outputs": [
    {
     "name": "stdout",
     "output_type": "stream",
     "text": [
      "Index(['Ticket ID', 'Customer Name', 'Customer Email', 'Customer Age',\n",
      "       'Customer Gender', 'Product Purchased', 'Date of Purchase',\n",
      "       'Ticket Type', 'Ticket Subject', 'Ticket Description', 'Ticket Status',\n",
      "       'Resolution', 'Ticket Priority', 'Ticket Channel',\n",
      "       'First Response Time', 'Time to Resolution',\n",
      "       'Customer Satisfaction Rating'],\n",
      "      dtype='object')\n"
     ]
    }
   ],
   "source": [
    "print(df_full.columns)\n"
   ]
  },
  {
   "cell_type": "code",
   "execution_count": 43,
   "id": "288cb8d2-6990-4ba0-b058-4260ac27161d",
   "metadata": {},
   "outputs": [],
   "source": [
    "df['Description_Length'] = df_full['Ticket Description'].str.len()\n",
    "df['Subject_Length'] = df_full['Ticket Subject'].str.len()\n",
    "\n",
    "# df = df.drop(columns=['Ticket Subject', 'Ticket Description'], errors='ignore')\n"
   ]
  },
  {
   "cell_type": "code",
   "execution_count": 44,
   "id": "906d7fc3-f001-4cc0-ac65-da9c3aa25dab",
   "metadata": {},
   "outputs": [],
   "source": [
    "from sklearn.feature_extraction.text import TfidfVectorizer\n",
    "tfidf = TfidfVectorizer(max_features=100, stop_words='english')  # adjust max features as needed\n",
    "tfidf_matrix = tfidf.fit_transform(df_full['Ticket Description'].fillna(''))\n"
   ]
  },
  {
   "cell_type": "code",
   "execution_count": 45,
   "id": "f8960fcd-60fc-48b4-bf35-739e0aa073c2",
   "metadata": {},
   "outputs": [],
   "source": [
    "import pandas as pd\n",
    "\n",
    "tfidf_df = pd.DataFrame(tfidf_matrix.toarray(), columns=tfidf.get_feature_names_out())\n",
    "df = pd.concat([df.reset_index(drop=True), tfidf_df.reset_index(drop=True)], axis=1)\n"
   ]
  },
  {
   "cell_type": "code",
   "execution_count": 46,
   "id": "528482d6-8950-46c0-8b9c-d4a696c00ed1",
   "metadata": {},
   "outputs": [],
   "source": [
    "from sklearn.model_selection import train_test_split\n",
    "\n",
    "X = df.drop(columns=['Customer Satisfaction Rating', 'Satisfaction_Class', 'Ticket Description', 'Ticket Subject'], errors='ignore')\n",
    "y = df['Satisfaction_Class']\n",
    "\n",
    "X_train, X_test, y_train, y_test = train_test_split(X, y, test_size=0.2, random_state=42)\n"
   ]
  },
  {
   "cell_type": "code",
   "execution_count": 47,
   "id": "e7619ac3-fad9-4d1f-942f-cfc7c5047fc1",
   "metadata": {},
   "outputs": [],
   "source": [
    "X = df.drop(columns=['Customer Satisfaction Rating', 'Satisfaction_Class', 'Ticket Subject', 'Ticket Description'], errors='ignore')\n",
    "y = df['Satisfaction_Class']\n",
    "X_encoded = pd.get_dummies(X, drop_first=True)\n",
    "from sklearn.model_selection import train_test_split\n",
    "\n",
    "X_train, X_test, y_train, y_test = train_test_split(X_encoded, y, test_size=0.2, random_state=42)\n"
   ]
  },
  {
   "cell_type": "code",
   "execution_count": 48,
   "id": "f8bc9a3f-7bdd-49ba-bd10-5c5eda0b3b52",
   "metadata": {},
   "outputs": [
    {
     "name": "stdout",
     "output_type": "stream",
     "text": [
      "NaNs in X_train: 22845\n",
      "NaNs in y_train: 4569\n"
     ]
    }
   ],
   "source": [
    "print(\"NaNs in X_train:\", X_train.isnull().sum().sum())\n",
    "print(\"NaNs in y_train:\", y_train.isnull().sum())\n"
   ]
  },
  {
   "cell_type": "code",
   "execution_count": 49,
   "id": "aae79ac1-8414-469d-ba69-01cb504ba5dd",
   "metadata": {},
   "outputs": [],
   "source": [
    "train_combined = pd.concat([X_train, y_train], axis=1)  # Combining X and y temporarily to drop rows with any NaN\n",
    "\n",
    "train_combined_clean = train_combined.dropna()  # Drop all rows\n",
    "\n",
    "X_train_clean = train_combined_clean.drop(columns=y_train.name)  # Split\n",
    "y_train_clean = train_combined_clean[y_train.name]\n"
   ]
  },
  {
   "cell_type": "code",
   "execution_count": 50,
   "id": "3cf72d20-3394-4991-9f74-7200b7ce6d83",
   "metadata": {},
   "outputs": [
    {
     "name": "stdout",
     "output_type": "stream",
     "text": [
      " Accuracy: 0.39431616341030196\n",
      "\n",
      " Classification Report:\n",
      "               precision    recall  f1-score   support\n",
      "\n",
      "        High       0.38      0.52      0.43       209\n",
      "         Low       0.43      0.45      0.44       249\n",
      "     Neutral       0.14      0.02      0.03       105\n",
      "\n",
      "    accuracy                           0.39       563\n",
      "   macro avg       0.32      0.33      0.30       563\n",
      "weighted avg       0.36      0.39      0.36       563\n",
      "\n",
      "\n",
      " Confusion Matrix:\n",
      " [[108  92   9]\n",
      " [134 112   3]\n",
      " [ 46  57   2]]\n"
     ]
    }
   ],
   "source": [
    "from sklearn.ensemble import RandomForestClassifier\n",
    "from sklearn.metrics import classification_report, accuracy_score, confusion_matrix\n",
    "import pandas as pd\n",
    "\n",
    "train_combined = pd.concat([X_train, y_train], axis=1)\n",
    "\n",
    "train_clean = train_combined.dropna()\n",
    "\n",
    "X_train_clean = train_clean.drop(columns=y_train.name)\n",
    "y_train_clean = train_clean[y_train.name]\n",
    "\n",
    "test_combined = pd.concat([X_test, y_test], axis=1)\n",
    "test_clean = test_combined.dropna()\n",
    "\n",
    "X_test_clean = test_clean.drop(columns=y_test.name)\n",
    "y_test_clean = test_clean[y_test.name]\n",
    "\n",
    "clf = RandomForestClassifier(n_estimators=200, random_state=42)  # train the Random Forest model\n",
    "clf.fit(X_train_clean, y_train_clean)\n",
    "\n",
    "y_pred = clf.predict(X_test_clean)  # predictions and evaluate\n",
    "\n",
    "print(\" Accuracy:\", accuracy_score(y_test_clean, y_pred))\n",
    "print(\"\\n Classification Report:\\n\", classification_report(y_test_clean, y_pred))\n",
    "print(\"\\n Confusion Matrix:\\n\", confusion_matrix(y_test_clean, y_pred))\n"
   ]
  },
  {
   "cell_type": "code",
   "execution_count": 51,
   "id": "f879a0f2-23d4-47f1-b3ae-a11f46024383",
   "metadata": {},
   "outputs": [
    {
     "name": "stdout",
     "output_type": "stream",
     "text": [
      "Accuracy: 0.2003610108303249\n",
      "\n",
      "Classification Report:\n",
      "               precision    recall  f1-score   support\n",
      "\n",
      "           1       0.17      0.19      0.18       109\n",
      "           2       0.19      0.15      0.16       117\n",
      "           3       0.23      0.36      0.28       112\n",
      "           4       0.17      0.13      0.15       108\n",
      "           5       0.22      0.18      0.20       108\n",
      "\n",
      "    accuracy                           0.20       554\n",
      "   macro avg       0.20      0.20      0.19       554\n",
      "weighted avg       0.20      0.20      0.19       554\n",
      "\n",
      "\n",
      "Confusion Matrix:\n",
      " [[21 20 30 18 20]\n",
      " [24 17 46 21  9]\n",
      " [27 18 40 10 17]\n",
      " [23 20 31 14 20]\n",
      " [27 15 30 17 19]]\n"
     ]
    }
   ],
   "source": [
    "# Drop rows where Customer Satisfaction Rating is missing\n",
    "df_model = df_full.dropna(subset=['Customer Satisfaction Rating'])\n",
    "\n",
    "# Prepare structured data\n",
    "X_struct = df_model.drop(columns=['Ticket Description', 'Ticket Subject', 'Customer Satisfaction Rating'], errors='ignore')\n",
    "X_struct = pd.get_dummies(X_struct)\n",
    "X_struct = X_struct.fillna(0)\n",
    "\n",
    "# Target as integers\n",
    "y = df_model['Customer Satisfaction Rating'].astype(int)\n",
    "\n",
    "# Split and train\n",
    "from sklearn.model_selection import train_test_split\n",
    "from sklearn.ensemble import RandomForestClassifier\n",
    "from sklearn.metrics import classification_report, accuracy_score, confusion_matrix\n",
    "\n",
    "X_train, X_test, y_train, y_test = train_test_split(X_struct, y, test_size=0.2, random_state=42)\n",
    "\n",
    "clf = RandomForestClassifier(n_estimators=200, random_state=42)\n",
    "clf.fit(X_train, y_train)\n",
    "\n",
    "y_pred = clf.predict(X_test)\n",
    "\n",
    "print(\"Accuracy:\", accuracy_score(y_test, y_pred))\n",
    "print(\"\\nClassification Report:\\n\", classification_report(y_test, y_pred))\n",
    "print(\"\\nConfusion Matrix:\\n\", confusion_matrix(y_test, y_pred))\n"
   ]
  },
  {
   "cell_type": "code",
   "execution_count": 52,
   "id": "3fb269db-0a8c-4225-aa6b-1a08ee0e1654",
   "metadata": {},
   "outputs": [
    {
     "name": "stdout",
     "output_type": "stream",
     "text": [
      "Accuracy: 0.2003610108303249\n",
      "\n",
      "Classification Report:\n",
      "              precision    recall  f1-score   support\n",
      "\n",
      "           1       0.17      0.19      0.18       109\n",
      "           2       0.19      0.15      0.16       117\n",
      "           3       0.23      0.36      0.28       112\n",
      "           4       0.17      0.13      0.15       108\n",
      "           5       0.22      0.18      0.20       108\n",
      "\n",
      "    accuracy                           0.20       554\n",
      "   macro avg       0.20      0.20      0.19       554\n",
      "weighted avg       0.20      0.20      0.19       554\n",
      "\n",
      "\n",
      "Confusion Matrix:\n",
      "[[21 20 30 18 20]\n",
      " [24 17 46 21  9]\n",
      " [27 18 40 10 17]\n",
      " [23 20 31 14 20]\n",
      " [27 15 30 17 19]]\n"
     ]
    }
   ],
   "source": [
    "from sklearn.metrics import accuracy_score, classification_report, confusion_matrix\n",
    "\n",
    "# Final evaluation on test set\n",
    "y_pred = clf.predict(X_test)\n",
    "\n",
    "print(\"Accuracy:\", accuracy_score(y_test, y_pred))\n",
    "print(\"\\nClassification Report:\")\n",
    "print(classification_report(y_test, y_pred))\n",
    "\n",
    "print(\"\\nConfusion Matrix:\")\n",
    "print(confusion_matrix(y_test, y_pred))\n"
   ]
  },
  {
   "cell_type": "code",
   "execution_count": 53,
   "id": "6ca4fcf6-b61b-41e9-969f-5e8f345ebb64",
   "metadata": {},
   "outputs": [],
   "source": [
    "# ===============================\n",
    "# Project Summary: Customer Satisfaction Prediction\n",
    "# ===============================\n",
    "\n",
    "# Objective:\n",
    "# Predict customer satisfaction rating (1–5 scale) from support ticket data.\n",
    "\n",
    "# Dataset:\n",
    "# - Source: customer_support_tickets.csv\n",
    "# - Final cleaned rows: ~2700\n",
    "# - Target: 'Customer Satisfaction Rating'\n",
    "\n",
    "# Preprocessing:\n",
    "# - Dropped rows with missing 'Customer Satisfaction Rating'\n",
    "# - Converted 'Date of Purchase' to Purchase_Year, Month, Day\n",
    "# - Converted 'Time to Resolution' into Resolution_Seconds\n",
    "# - Feature engineered:\n",
    "#   - Age group dummies (e.g., Age_Group_Middle, Senior)\n",
    "#   - Resolution speed category dummies\n",
    "#   - One-hot encoded categorical columns\n",
    "# - Attempted text features using TF-IDF on Ticket Subject + Description (optional step)\n",
    "\n",
    "# Models Tried:\n",
    "# - Linear Regression (not suitable for classification)\n",
    "# - Decision Tree Classifier: ~20% accuracy\n",
    "# - Random Forest Classifier: ~39.4% accuracy (best)\n",
    "\n",
    "# Final Model:\n",
    "# - RandomForestClassifier(n_estimators=200, random_state=42)\n",
    "# - Accuracy: 0.3943\n",
    "# - Confusion mainly between nearby ratings (3 vs 2 or 4)\n",
    "\n",
    "# Observations:\n",
    "# - Model performs better on 'High' and 'Low' classes\n",
    "# - 'Neutral' class was hardest to predict (lowest recall)\n",
    "# - Accuracy may improve with:\n",
    "#   - More advanced NLP methods (like embeddings)\n",
    "#   - Dimensionality reduction\n",
    "#   - Balancing classes\n",
    "\n",
    "# Status:\n",
    "# - Data cleaning \n",
    "# - Feature engineering \n",
    "# - Model training \n",
    "# - Results analysis \n"
   ]
  }
 ],
 "metadata": {
  "kernelspec": {
   "display_name": "Python [conda env:base] *",
   "language": "python",
   "name": "conda-base-py"
  },
  "language_info": {
   "codemirror_mode": {
    "name": "ipython",
    "version": 3
   },
   "file_extension": ".py",
   "mimetype": "text/x-python",
   "name": "python",
   "nbconvert_exporter": "python",
   "pygments_lexer": "ipython3",
   "version": "3.12.7"
  }
 },
 "nbformat": 4,
 "nbformat_minor": 5
}
